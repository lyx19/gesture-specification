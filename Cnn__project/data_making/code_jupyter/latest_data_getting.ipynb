{
 "cells": [
  {
   "cell_type": "code",
   "execution_count": 1,
   "metadata": {},
   "outputs": [],
   "source": [
    "import thinkdsp\n",
    "import thinkplot\n",
    "import thinkstats2\n",
    "import numpy as np"
   ]
  },
  {
   "cell_type": "code",
   "execution_count": 2,
   "metadata": {},
   "outputs": [
    {
     "data": {
      "image/png": "[encoded data removed]",
      "text/plain": [
       "<Figure size 432x288 with 1 Axes>"
      ]
     },
     "metadata": {},
     "output_type": "display_data"
    }
   ],
   "source": [
    "hamming = thinkdsp.Wave( ys=np.hamming(80), ts=np.arange(80))\n",
    "hamming.__init__(ys=hamming.ys, framerate=5000)\n",
    "hamming.plot()"
   ]
  },
  {
   "cell_type": "code",
   "execution_count": 3,
   "metadata": {},
   "outputs": [
    {
     "data": {
      "text/plain": [
       "<Figure size 432x288 with 0 Axes>"
      ]
     },
     "metadata": {},
     "output_type": "display_data"
    }
   ],
   "source": [
    "import matplotlib.pylab as plt\n",
    "import pandas as pd\n",
    "import numpy as np\n",
    "import time\n",
    "from IPython import display\n",
    "%matplotlib inline\n",
    "beta = 0.35\n",
    "i = 1\n",
    "frt = 1500\n",
    "left_seg = 200\n",
    "right_seg = 400\n",
    "\n",
    "def unbias(ys):\n",
    "    \"\"\"Shifts a wave array so it has mean 0.\n",
    "\n",
    "    ys: wave array\n",
    "\n",
    "    returns: wave array\n",
    "    \"\"\"\n",
    "    return ys - ys.mean()\n",
    "\n",
    "\n",
    "hamming = thinkdsp.Wave( ys=np.hamming(400), ts=np.arange(400))\n",
    "hamming.__init__(ys=hamming.ys, framerate=frt)\n",
    "\n",
    "while True:\n",
    " time_start=time.time()   \n",
    " try:\n",
    "   plt.clf()\n",
    "   #plt.plot(pd.Series(data=np.random.randn(100), index=i))\n",
    "   ample = np.genfromtxt('五指张100.txt',dtype=None,invalid_raise = False)\n",
    "   time.sleep(0.75)\n",
    "   b = np.genfromtxt('五指张100.txt',dtype=None,invalid_raise = False)\n",
    "    \n",
    "   \n",
    "   if ample.shape==(6,frt):\n",
    "       ys = {\"ys_\"+str(n): ample[n] for n in range(6)}\n",
    "       ts = np.arange(frt)\n",
    "        \n",
    "       wave_0 = thinkdsp.Wave(framerate=frt, ts=ts, ys=ys[\"ys_0\"])\n",
    "       wave_1 = thinkdsp.Wave(framerate=frt, ts=ts, ys=ys[\"ys_1\"])\n",
    "       wave_2 = thinkdsp.Wave(framerate=frt, ts=ts, ys=ys[\"ys_2\"])\n",
    "       wave_3 = thinkdsp.Wave(framerate=frt, ts=ts, ys=ys[\"ys_3\"])\n",
    "       wave_4 = thinkdsp.Wave(framerate=frt, ts=ts, ys=ys[\"ys_4\"])\n",
    "       wave_5 = thinkdsp.Wave(framerate=frt, ts=ts, ys=ys[\"ys_5\"])\n",
    "        \n",
    "       wave_0.unbias()\n",
    "       wave_1.unbias()\n",
    "       wave_2.unbias()\n",
    "       wave_3.unbias()\n",
    "       wave_4.unbias()\n",
    "       wave_5.unbias()\n",
    "        \n",
    "       p_0 = thinkdsp.Wave(framerate=frt, ts=ts, ys=wave_0.ys**2)\n",
    "       \n",
    "       \n",
    "       convolve_0 = p_0.convolve(hamming)\n",
    "       \n",
    "    \n",
    "       cut_0 = thinkdsp.Wave(framerate=frt, ys=convolve_0.ys)\n",
    "       cut_0.ts =convolve_0.ts[convolve_0.ys > beta]\n",
    "       \n",
    "       if np.max(convolve_0.ys)> 1.8*beta :\n",
    "           cut_0.ts =convolve_0.ts[convolve_0.ys > beta]\n",
    "           \n",
    "           if int(cut_0.ts[0]*frt)-left_seg >0:\n",
    "               \n",
    "               seg_0 = thinkdsp.Wave(framerate=frt, ys=wave_0.ys)\n",
    "               seg_1 = thinkdsp.Wave(framerate=frt, ys=wave_1.ys)\n",
    "               seg_2 = thinkdsp.Wave(framerate=frt, ys=wave_2.ys)\n",
    "               seg_3 = thinkdsp.Wave(framerate=frt, ys=wave_3.ys)\n",
    "               seg_4 = thinkdsp.Wave(framerate=frt, ys=wave_4.ys)\n",
    "               seg_5 = thinkdsp.Wave(framerate=frt, ys=wave_5.ys)\n",
    "\n",
    "               seg_0.ts = wave_0.ts[int(cut_0.ts[0]*frt)-left_seg:int(cut_0.ts[0]*frt)+right_seg]\n",
    "               seg_0.ys = wave_0.ys[int(cut_0.ts[0]*frt)-left_seg:int(cut_0.ts[0]*frt)+right_seg]\n",
    "               a = seg_0.ys\n",
    "\n",
    "               seg_1.ts = wave_1.ts[int(cut_0.ts[0]*frt)-left_seg:int(cut_0.ts[0]*frt)+right_seg]\n",
    "               seg_1.ys = wave_1.ys[int(cut_0.ts[0]*frt)-left_seg:int(cut_0.ts[0]*frt)+right_seg]\n",
    "\n",
    "               seg_2.ts = wave_2.ts[int(cut_0.ts[0]*frt)-left_seg:int(cut_0.ts[0]*frt)+right_seg]\n",
    "               seg_2.ys = wave_2.ys[int(cut_0.ts[0]*frt)-left_seg:int(cut_0.ts[0]*frt)+right_seg]\n",
    "               seg_3.ts = wave_3.ts[int(cut_0.ts[0]*frt)-left_seg:int(cut_0.ts[0]*frt)+right_seg]\n",
    "               seg_3.ys = wave_3.ys[int(cut_0.ts[0]*frt)-left_seg:int(cut_0.ts[0]*frt)+right_seg]\n",
    "\n",
    "               seg_4.ts = wave_4.ts[int(cut_0.ts[0]*frt)-left_seg:int(cut_0.ts[0]*frt)+right_seg]\n",
    "               seg_4.ys = wave_4.ys[int(cut_0.ts[0]*frt)-left_seg:int(cut_0.ts[0]*frt)+right_seg]\n",
    "               seg_5.ts = wave_5.ts[int(cut_0.ts[0]*frt)-left_seg:int(cut_0.ts[0]*frt)+right_seg]\n",
    "               seg_5.ys = wave_5.ys[int(cut_0.ts[0]*frt)-left_seg:int(cut_0.ts[0]*frt)+right_seg]\n",
    "\n",
    "               \n",
    "               if seg_0.ts.shape>(0,)and seg_0.ts.shape<(left_seg+right_seg,) :\n",
    "\n",
    "                    w = b[0,0:left_seg+right_seg - a.shape[0]]\n",
    "\n",
    "                    seg_0.ys = np.hstack((a,unbias(w)))\n",
    "                    seg_0.ts = np.arange(left_seg+right_seg)\n",
    "                    print(\"shape=\",b.shape[0])\n",
    "\n",
    "\n",
    "               if seg_1.ts.shape>(0,)and seg_1.ts.shape<(left_seg+right_seg,) :\n",
    "\n",
    "                    r = b[1,0:left_seg+right_seg - a.shape[0]]\n",
    "\n",
    "                    seg_1.ys = np.hstack((a,unbias(r)))\n",
    "                    seg_1.ts = np.arange(left_seg+right_seg)\n",
    "                    print(\"shape=\",b.shape[0])\n",
    "\n",
    "               if seg_2.ts.shape>(0,)and seg_2.ts.shape<(left_seg+right_seg,) :\n",
    "\n",
    "                    p = b[2,0:left_seg+right_seg - a.shape[0]]\n",
    "\n",
    "                    seg_2.ys = np.hstack((a,unbias(p)))\n",
    "                    seg_2.ts = np.arange(left_seg+right_seg)\n",
    "                    print(\"shape=\",b.shape[0])\n",
    "\n",
    "               if seg_3.ts.shape>(0,)and seg_3.ts.shape<(left_seg+right_seg,) :\n",
    "\n",
    "                    t = b[3,0:left_seg+right_seg - a.shape[0]]\n",
    "\n",
    "                    seg_3.ys = np.hstack((a,unbias(t)))\n",
    "                    seg_3.ts = np.arange(left_seg+right_seg)\n",
    "                    print(\"shape=\",b.shape[0])   \n",
    "\n",
    "               if seg_4.ts.shape>(0,)and seg_4.ts.shape<(left_seg+right_seg,) :\n",
    "\n",
    "                    s = b[4,0:left_seg+right_seg - a.shape[0]]\n",
    "\n",
    "                    seg_4.ys = np.hstack((a,unbias(s)))\n",
    "                    seg_4.ts = np.arange(left_seg+right_seg)\n",
    "                    print(\"shape=\",b.shape[0])\n",
    "\n",
    "               if seg_5.ts.shape>(0,)and seg_5.ts.shape<(left_seg+right_seg,) :\n",
    "\n",
    "                    d = b[5,0:left_seg+right_seg - a.shape[0]]\n",
    "\n",
    "                    seg_5.ys = np.hstack((a,unbias(d)))\n",
    "                    seg_5.ts = np.arange(left_seg+right_seg)\n",
    "                    print(\"shape=\",b.shape[0])\n",
    "\n",
    "\n",
    "\n",
    "               segment = np.vstack((seg_0.ys,seg_1.ys,seg_2.ys,seg_3.ys,seg_4.ys,seg_5.ys)) \n",
    "               #np.savetxt('向左\\向左_'+str(i)+'.txt', segment, fmt = '%g', newline='\\n')\n",
    "               print(\"cut_0.ts[0]=\",int(cut_0.ts[0]*frt))\n",
    "               seg_1.plot()\n",
    "               i=i+1\n",
    "               time.sleep(0.3)\n",
    "      \n",
    "   display.display(plt.gcf())\n",
    "   display.clear_output(wait=True)\n",
    "   time.sleep(0.10)\n",
    "   time_end=time.time()\n",
    "\n",
    "   print('totally cost',time_end-time_start)\n",
    "   print('i = ',i)\n",
    "   \n",
    " except KeyboardInterrupt:\n",
    "   break                              "
   ]
  },
  {
   "cell_type": "code",
   "execution_count": 9,
   "metadata": {},
   "outputs": [
    {
     "data": {
      "text/plain": [
       "(1500,)"
      ]
     },
     "execution_count": 9,
     "metadata": {},
     "output_type": "execute_result"
    }
   ],
   "source": [
    "wave_2.ts.shape"
   ]
  },
  {
   "cell_type": "code",
   "execution_count": 16,
   "metadata": {},
   "outputs": [
    {
     "data": {
      "text/plain": [
       "(1847,)"
      ]
     },
     "execution_count": 16,
     "metadata": {},
     "output_type": "execute_result"
    }
   ],
   "source": [
    "cut_0.ts.shape"
   ]
  },
  {
   "cell_type": "code",
   "execution_count": 6,
   "metadata": {},
   "outputs": [
    {
     "data": {
      "text/plain": [
       "(4, 1500)"
      ]
     },
     "execution_count": 6,
     "metadata": {},
     "output_type": "execute_result"
    }
   ],
   "source": [
    "p.shape"
   ]
  },
  {
   "cell_type": "code",
   "execution_count": 33,
   "metadata": {},
   "outputs": [
    {
     "data": {
      "text/plain": [
       "(0,)"
      ]
     },
     "execution_count": 33,
     "metadata": {},
     "output_type": "execute_result"
    }
   ],
   "source": [
    "cut_0.ts.shape"
   ]
  },
  {
   "cell_type": "code",
   "execution_count": 36,
   "metadata": {},
   "outputs": [
    {
     "data": {
      "text/plain": [
       "array([], dtype=float64)"
      ]
     },
     "execution_count": 36,
     "metadata": {},
     "output_type": "execute_result"
    }
   ],
   "source": [
    "convolve_0.ts[convolve_0.ys>beta]"
   ]
  },
  {
   "cell_type": "code",
   "execution_count": 76,
   "metadata": {},
   "outputs": [
    {
     "data": {
      "text/plain": [
       "array([[1.166, 1.165, 1.163, ..., 1.166, 1.168, 1.167],\n",
       "       [1.183, 1.183, 1.184, ..., 1.183, 1.184, 1.184],\n",
       "       [2.252, 2.253, 2.253, ..., 2.244, 2.244, 2.244],\n",
       "       [2.233, 2.234, 2.232, ..., 2.234, 2.238, 2.233],\n",
       "       [1.617, 1.613, 1.616, ..., 1.62 , 1.622, 1.617],\n",
       "       [1.603, 1.604, 1.601, ..., 1.594, 1.605, 1.601]])"
      ]
     },
     "execution_count": 76,
     "metadata": {},
     "output_type": "execute_result"
    }
   ],
   "source": [
    "ample"
   ]
  },
  {
   "cell_type": "code",
   "execution_count": 78,
   "metadata": {},
   "outputs": [
    {
     "data": {
      "text/plain": [
       "(0,)"
      ]
     },
     "execution_count": 78,
     "metadata": {},
     "output_type": "execute_result"
    }
   ],
   "source": [
    "b.shape"
   ]
  },
  {
   "cell_type": "code",
   "execution_count": 4,
   "metadata": {},
   "outputs": [
    {
     "data": {
      "image/png": "[encoded data removed]",
      "text/plain": [
       "<Figure size 432x288 with 1 Axes>"
      ]
     },
     "metadata": {},
     "output_type": "display_data"
    }
   ],
   "source": [
    "yk = np.loadtxt('向左\\向左_89.txt')[0]\n",
    "wav = thinkdsp.Wave(framerate=1500,ys=yk,ts=np.arange((len(yk))))\n",
    "wav.plot()"
   ]
  },
  {
   "cell_type": "code",
   "execution_count": null,
   "metadata": {},
   "outputs": [],
   "source": []
  }
 ],
 "metadata": {
  "kernelspec": {
   "display_name": "Python 3",
   "language": "python",
   "name": "python3"
  },
  "language_info": {
   "codemirror_mode": {
    "name": "ipython",
    "version": 3
   },
   "file_extension": ".py",
   "mimetype": "text/x-python",
   "name": "python",
   "nbconvert_exporter": "python",
   "pygments_lexer": "ipython3",
   "version": "3.5.0"
  }
 },
 "nbformat": 4,
 "nbformat_minor": 2
}
