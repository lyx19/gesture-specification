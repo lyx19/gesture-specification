{
 "cells": [
  {
   "cell_type": "code",
   "execution_count": 36,
   "metadata": {},
   "outputs": [],
   "source": [
    "import thinkdsp\n",
    "import thinkplot\n",
    "import thinkstats2\n",
    "\n",
    "import numpy as np\n"
   ]
  },
  {
   "cell_type": "code",
   "execution_count": 37,
   "metadata": {},
   "outputs": [
    {
     "data": {
      "image/png": "[encoded data removed]",
      "text/plain": [
       "<Figure size 432x288 with 1 Axes>"
      ]
     },
     "metadata": {},
     "output_type": "display_data"
    }
   ],
   "source": [
    "hamming = thinkdsp.Wave( ys=np.hamming(80), ts=np.arange(80))\n",
    "hamming.__init__(ys=hamming.ys, framerate=5000)\n",
    "hamming.plot()"
   ]
  },
  {
   "cell_type": "code",
   "execution_count": 41,
   "metadata": {},
   "outputs": [
    {
     "data": {
      "text/plain": [
       "<Figure size 432x288 with 0 Axes>"
      ]
     },
     "metadata": {},
     "output_type": "display_data"
    }
   ],
   "source": [
    "import matplotlib.pylab as plt\n",
    "import pandas as pd\n",
    "import numpy as np\n",
    "import time\n",
    "from IPython import display\n",
    "%matplotlib inline\n",
    "beta = 3\n",
    "i = 84\n",
    "ys_dict = {}\n",
    "wave_dict = {}\n",
    "spectrum_dict = {}\n",
    "while True:\n",
    " time_start=time.time()   \n",
    " try:\n",
    "   plt.clf()\n",
    "   ample = np.loadtxt('五指张100.txt')\n",
    "   if ample.shape==(6,5000):\n",
    "       ys_5 = ample[5]\n",
    "       ts = np.arange((len(ys_5)))\n",
    "       wave = thinkdsp.Wave(framerate=5000, ts=ts, ys=ys_5)\n",
    "       wave.unbias()\n",
    "       wave.ys=wave.ys**2\n",
    "       convolve_0 = wave.convolve(hamming)\n",
    "       #convolve_0.plot()\n",
    "       if np.max(convolve_0.ys) > beta:\n",
    "        \n",
    "         for n in range(6):\n",
    "                \n",
    "            ys_dict [\"ys_\"+str(n)] =  ample[n]\n",
    "            wave_dict [\"wave_\"+str(n)] = thinkdsp.Wave(framerate=5000, \n",
    "                                ys=ys_dict[\"ys_\"+str(n)],ts=np.arange((len(ys_dict[\"ys_\"+str(n)]))))\n",
    "            spectrum_dict [\"spectrum_\"+str(n)] =  wave_dict[\"wave_\"+str(n)].make_spectrum()\n",
    "            spectrum_dict[\"spectrum_\"+str(n)].fs = spectrum_dict[\"spectrum_\"+str(n)].fs[0:400]\n",
    "            spectrum_dict[\"spectrum_\"+str(n)].hs = spectrum_dict[\"spectrum_\"+str(n)].hs[0:400]\n",
    "            wave_dict[\"wave_\"+str(n)] = spectrum_dict[\"spectrum_\"+str(n)].make_wave()\n",
    "            \n",
    "         spectrum = np.abs([spectrum_dict[\"spectrum_\"+str(t)].hs  for t in range(6)])\n",
    "         np.savetxt('向右\\向右_'+str(i)+'.txt', spectrum, fmt = '%g', newline='\\n')\n",
    "         i = i+1\n",
    "         wave_dict[\"wave_2\"].plot()\n",
    "          \n",
    "         \n",
    "      \n",
    "   display.display(plt.gcf())\n",
    "   display.clear_output(wait=True)\n",
    "   time.sleep(0.8)\n",
    "   time_end=time.time()\n",
    "\n",
    "   print('totally cost',time_end-time_start)\n",
    "   print('i = ',i)\n",
    " except KeyboardInterrupt:\n",
    "   break                            "
   ]
  },
  {
   "cell_type": "code",
   "execution_count": 33,
   "metadata": {},
   "outputs": [
    {
     "data": {
      "text/plain": [
       "(400,)"
      ]
     },
     "execution_count": 33,
     "metadata": {},
     "output_type": "execute_result"
    }
   ],
   "source": [
    "hs = np.loadtxt(\"向右\\向右_37.txt\") \n",
    "hs_0 = hs[4]\n",
    "fs = np.arange((len(hs_0)))\n",
    "spectrum = thinkdsp.Spectrum(framerate=5000, fs=fs, hs=hs_0)\n",
    "wave = spectrum.make_wave()\n",
    "hs_0.shape\n"
   ]
  },
  {
   "cell_type": "code",
   "execution_count": 26,
   "metadata": {},
   "outputs": [
    {
     "data": {
      "text/plain": [
       "{'wave_5': <thinkdsp.Wave at 0x1b2e7d14940>}"
      ]
     },
     "execution_count": 26,
     "metadata": {},
     "output_type": "execute_result"
    }
   ],
   "source": [
    "wave_dict"
   ]
  },
  {
   "cell_type": "code",
   "execution_count": 74,
   "metadata": {},
   "outputs": [],
   "source": [
    "spectrum = np.real([spectrum_dict[\"spectrum_0\"].hs for t in range(6)])"
   ]
  },
  {
   "cell_type": "code",
   "execution_count": 76,
   "metadata": {},
   "outputs": [
    {
     "data": {
      "text/plain": [
       "(6, 2501)"
      ]
     },
     "execution_count": 76,
     "metadata": {},
     "output_type": "execute_result"
    }
   ],
   "source": [
    "spectrum.shape"
   ]
  },
  {
   "cell_type": "code",
   "execution_count": 11,
   "metadata": {},
   "outputs": [
    {
     "ename": "KeyError",
     "evalue": "'spectrum_1'",
     "output_type": "error",
     "traceback": [
      "\u001b[1;31m---------------------------------------------------------------------------\u001b[0m",
      "\u001b[1;31mKeyError\u001b[0m                                  Traceback (most recent call last)",
      "\u001b[1;32m<ipython-input-11-5861b8f9862a>\u001b[0m in \u001b[0;36m<module>\u001b[1;34m()\u001b[0m\n\u001b[1;32m----> 1\u001b[1;33m \u001b[0mspectrum\u001b[0m \u001b[1;33m=\u001b[0m \u001b[0mnp\u001b[0m\u001b[1;33m.\u001b[0m\u001b[0mabs\u001b[0m\u001b[1;33m(\u001b[0m\u001b[1;33m[\u001b[0m\u001b[0mspectrum_dict\u001b[0m\u001b[1;33m[\u001b[0m\u001b[1;34m\"spectrum_\"\u001b[0m\u001b[1;33m+\u001b[0m\u001b[0mstr\u001b[0m\u001b[1;33m(\u001b[0m\u001b[0mt\u001b[0m\u001b[1;33m)\u001b[0m\u001b[1;33m]\u001b[0m\u001b[1;33m.\u001b[0m\u001b[0mhs\u001b[0m  \u001b[1;32mfor\u001b[0m \u001b[0mt\u001b[0m \u001b[1;32min\u001b[0m \u001b[0mrange\u001b[0m\u001b[1;33m(\u001b[0m\u001b[1;36m6\u001b[0m\u001b[1;33m)\u001b[0m\u001b[1;33m]\u001b[0m\u001b[1;33m)\u001b[0m\u001b[1;33m\u001b[0m\u001b[0m\n\u001b[0m",
      "\u001b[1;32m<ipython-input-11-5861b8f9862a>\u001b[0m in \u001b[0;36m<listcomp>\u001b[1;34m(.0)\u001b[0m\n\u001b[1;32m----> 1\u001b[1;33m \u001b[0mspectrum\u001b[0m \u001b[1;33m=\u001b[0m \u001b[0mnp\u001b[0m\u001b[1;33m.\u001b[0m\u001b[0mabs\u001b[0m\u001b[1;33m(\u001b[0m\u001b[1;33m[\u001b[0m\u001b[0mspectrum_dict\u001b[0m\u001b[1;33m[\u001b[0m\u001b[1;34m\"spectrum_\"\u001b[0m\u001b[1;33m+\u001b[0m\u001b[0mstr\u001b[0m\u001b[1;33m(\u001b[0m\u001b[0mt\u001b[0m\u001b[1;33m)\u001b[0m\u001b[1;33m]\u001b[0m\u001b[1;33m.\u001b[0m\u001b[0mhs\u001b[0m  \u001b[1;32mfor\u001b[0m \u001b[0mt\u001b[0m \u001b[1;32min\u001b[0m \u001b[0mrange\u001b[0m\u001b[1;33m(\u001b[0m\u001b[1;36m6\u001b[0m\u001b[1;33m)\u001b[0m\u001b[1;33m]\u001b[0m\u001b[1;33m)\u001b[0m\u001b[1;33m\u001b[0m\u001b[0m\n\u001b[0m",
      "\u001b[1;31mKeyError\u001b[0m: 'spectrum_1'"
     ]
    }
   ],
   "source": [
    "spectrum = np.abs([spectrum_dict[\"spectrum_\"+str(t)].hs  for t in range(6)])"
   ]
  },
  {
   "cell_type": "code",
   "execution_count": 123,
   "metadata": {},
   "outputs": [
    {
     "data": {
      "text/plain": [
       "(6, 400)"
      ]
     },
     "execution_count": 123,
     "metadata": {},
     "output_type": "execute_result"
    }
   ],
   "source": [
    "spectrum.shape"
   ]
  },
  {
   "cell_type": "code",
   "execution_count": null,
   "metadata": {},
   "outputs": [],
   "source": []
  }
 ],
 "metadata": {
  "kernelspec": {
   "display_name": "Python 3",
   "language": "python",
   "name": "python3"
  },
  "language_info": {
   "codemirror_mode": {
    "name": "ipython",
    "version": 3
   },
   "file_extension": ".py",
   "mimetype": "text/x-python",
   "name": "python",
   "nbconvert_exporter": "python",
   "pygments_lexer": "ipython3",
   "version": "3.5.0"
  }
 },
 "nbformat": 4,
 "nbformat_minor": 2
}
