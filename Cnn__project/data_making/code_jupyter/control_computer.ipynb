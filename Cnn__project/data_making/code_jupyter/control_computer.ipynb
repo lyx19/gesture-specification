{
 "cells": [
  {
   "cell_type": "code",
   "execution_count": 4,
   "metadata": {},
   "outputs": [],
   "source": [
    "import win32api\n",
    "import win32con\n",
    "import pymouse,pykeyboard,os,sys\n",
    "from pymouse import *\n",
    "from pykeyboard import PyKeyboard"
   ]
  },
  {
   "cell_type": "code",
   "execution_count": 5,
   "metadata": {},
   "outputs": [],
   "source": [
    "win32api.keybd_event(17,0,0,0)  #ctrl键位码是17\n",
    "win32api.keybd_event(86,0,0,0)  #v键位码是86win32api.keybd_event(17,0,0,0)  #ctrl键位码是17win32api.keybd_event(86,0,0,0)  #v键位码是86win32api.keybd_event(86,0,win32con.KEYEVENTF_KEYUP,0) #释放按键win32api.keybd_event(17,0,win32con.KEYEVENTF_KEYUP,0)\n",
    "\n",
    "win32api.keybd_event(86,0,win32con.KEYEVENTF_KEYUP,0) #释放按键\n",
    "win32api.keybd_event(17,0,win32con.KEYEVENTF_KEYUP,0)\n"
   ]
  },
  {
   "cell_type": "code",
   "execution_count": 11,
   "metadata": {},
   "outputs": [],
   "source": [
    "m = PyMouse() \n",
    "k = PyKeyboard()\n",
    "k.type_string('Hello, World') #模拟键盘输入字符串 "
   ]
  },
  {
   "cell_type": "code",
   "execution_count": null,
   "metadata": {},
   "outputs": [],
   "source": [
    "HELLo, World"
   ]
  },
  {
   "cell_type": "code",
   "execution_count": 15,
   "metadata": {},
   "outputs": [],
   "source": [
    "def open_app(app_dir):\n",
    "    os.startfile(app_dir)\n",
    "app_dir = r'C:\\Users\\123\\Desktop\\第三章——高频小信号放大器.ppt'\n",
    "\n",
    "open_app(app_dir)\n",
    "k.tap_key(k.shift_key)\n",
    "k.tap_key(k.function_keys[5])\n",
    "k.tap_key(k.escape_key)"
   ]
  },
  {
   "cell_type": "code",
   "execution_count": null,
   "metadata": {},
   "outputs": [],
   "source": []
  }
 ],
 "metadata": {
  "kernelspec": {
   "display_name": "Python 3",
   "language": "python",
   "name": "python3"
  },
  "language_info": {
   "codemirror_mode": {
    "name": "ipython",
    "version": 3
   },
   "file_extension": ".py",
   "mimetype": "text/x-python",
   "name": "python",
   "nbconvert_exporter": "python",
   "pygments_lexer": "ipython3",
   "version": "3.5.0"
  }
 },
 "nbformat": 4,
 "nbformat_minor": 2
}
